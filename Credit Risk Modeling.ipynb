{
 "cells": [
  {
   "cell_type": "markdown",
   "id": "ff282ac7",
   "metadata": {},
   "source": [
    "# Introduction"
   ]
  },
  {
   "cell_type": "markdown",
   "id": "b70bf8d9",
   "metadata": {},
   "source": [
    "In this notebook, we will be learning the assocation between the traits and attributes of different borrowers in history and their repayment status (i.e. whether they are Good Risk or Bad Risk). <br />\n",
    "Definition of credit risk: The risk of witnessing defaults on a debt that may arise from a borrower failing to make required payments"
   ]
  },
  {
   "cell_type": "markdown",
   "id": "3c67ad7f",
   "metadata": {},
   "source": [
    "Credits: https://towardsdatascience.com/how-do-you-present-your-data-science-solution-961c1d1d8dec"
   ]
  },
  {
   "cell_type": "code",
   "execution_count": 1,
   "id": "829b2c3d",
   "metadata": {},
   "outputs": [],
   "source": [
    "import numpy as np\n",
    "import pandas as pd\n",
    "import matplotlib.pyplot as plt\n",
    "%matplotlib inline\n",
    "\n",
    "import warnings\n",
    "warnings.filterwarnings('ignore')"
   ]
  },
  {
   "cell_type": "code",
   "execution_count": 2,
   "id": "47469a14",
   "metadata": {},
   "outputs": [
    {
     "data": {
      "text/plain": [
       "((900, 10), (100, 10))"
      ]
     },
     "execution_count": 2,
     "metadata": {},
     "output_type": "execute_result"
    }
   ],
   "source": [
    "# split dataset into training and test set\n",
    "from sklearn.model_selection import train_test_split\n",
    "\n",
    "df_credit= pd.read_csv('german_credit.csv')\n",
    "df_train, df_test = train_test_split(df_credit, test_size=0.1, random_state=42)\n",
    "\n",
    "df_train.shape, df_test.shape"
   ]
  },
  {
   "cell_type": "code",
   "execution_count": 3,
   "id": "4a188286",
   "metadata": {},
   "outputs": [
    {
     "data": {
      "text/html": [
       "<div>\n",
       "<style scoped>\n",
       "    .dataframe tbody tr th:only-of-type {\n",
       "        vertical-align: middle;\n",
       "    }\n",
       "\n",
       "    .dataframe tbody tr th {\n",
       "        vertical-align: top;\n",
       "    }\n",
       "\n",
       "    .dataframe thead th {\n",
       "        text-align: right;\n",
       "    }\n",
       "</style>\n",
       "<table border=\"1\" class=\"dataframe\">\n",
       "  <thead>\n",
       "    <tr style=\"text-align: right;\">\n",
       "      <th></th>\n",
       "      <th>Credit History</th>\n",
       "      <th>Age</th>\n",
       "      <th>Gender</th>\n",
       "      <th>Job</th>\n",
       "      <th>Housing</th>\n",
       "      <th>Saving accounts</th>\n",
       "      <th>Credit amount</th>\n",
       "      <th>Duration</th>\n",
       "      <th>Purpose</th>\n",
       "      <th>Risk</th>\n",
       "    </tr>\n",
       "  </thead>\n",
       "  <tbody>\n",
       "    <tr>\n",
       "      <th>716</th>\n",
       "      <td>4</td>\n",
       "      <td>40</td>\n",
       "      <td>male</td>\n",
       "      <td>2</td>\n",
       "      <td>own</td>\n",
       "      <td>NaN</td>\n",
       "      <td>3077</td>\n",
       "      <td>30</td>\n",
       "      <td>radio/TV</td>\n",
       "      <td>good</td>\n",
       "    </tr>\n",
       "    <tr>\n",
       "      <th>351</th>\n",
       "      <td>2</td>\n",
       "      <td>29</td>\n",
       "      <td>female</td>\n",
       "      <td>2</td>\n",
       "      <td>own</td>\n",
       "      <td>little</td>\n",
       "      <td>959</td>\n",
       "      <td>9</td>\n",
       "      <td>furniture/equipment</td>\n",
       "      <td>bad</td>\n",
       "    </tr>\n",
       "    <tr>\n",
       "      <th>936</th>\n",
       "      <td>2</td>\n",
       "      <td>28</td>\n",
       "      <td>female</td>\n",
       "      <td>1</td>\n",
       "      <td>own</td>\n",
       "      <td>little</td>\n",
       "      <td>745</td>\n",
       "      <td>9</td>\n",
       "      <td>radio/TV</td>\n",
       "      <td>bad</td>\n",
       "    </tr>\n",
       "    <tr>\n",
       "      <th>256</th>\n",
       "      <td>4</td>\n",
       "      <td>35</td>\n",
       "      <td>male</td>\n",
       "      <td>1</td>\n",
       "      <td>own</td>\n",
       "      <td>little</td>\n",
       "      <td>2684</td>\n",
       "      <td>24</td>\n",
       "      <td>radio/TV</td>\n",
       "      <td>good</td>\n",
       "    </tr>\n",
       "    <tr>\n",
       "      <th>635</th>\n",
       "      <td>2</td>\n",
       "      <td>47</td>\n",
       "      <td>male</td>\n",
       "      <td>2</td>\n",
       "      <td>own</td>\n",
       "      <td>little</td>\n",
       "      <td>1393</td>\n",
       "      <td>12</td>\n",
       "      <td>education</td>\n",
       "      <td>good</td>\n",
       "    </tr>\n",
       "  </tbody>\n",
       "</table>\n",
       "</div>"
      ],
      "text/plain": [
       "     Credit History  Age  Gender  Job Housing Saving accounts  Credit amount  \\\n",
       "716               4   40    male    2     own             NaN           3077   \n",
       "351               2   29  female    2     own          little            959   \n",
       "936               2   28  female    1     own          little            745   \n",
       "256               4   35    male    1     own          little           2684   \n",
       "635               2   47    male    2     own          little           1393   \n",
       "\n",
       "     Duration              Purpose  Risk  \n",
       "716        30             radio/TV  good  \n",
       "351         9  furniture/equipment   bad  \n",
       "936         9             radio/TV   bad  \n",
       "256        24             radio/TV  good  \n",
       "635        12            education  good  "
      ]
     },
     "execution_count": 3,
     "metadata": {},
     "output_type": "execute_result"
    }
   ],
   "source": [
    "df_train.head()"
   ]
  },
  {
   "cell_type": "markdown",
   "id": "c46b89d1",
   "metadata": {},
   "source": [
    "# Exploratory Data Analysis (EDA)"
   ]
  },
  {
   "cell_type": "markdown",
   "id": "ef88b133",
   "metadata": {},
   "source": [
    "We will be checking the training and test dataset whether they belong to similar distributions:"
   ]
  },
  {
   "cell_type": "code",
   "execution_count": 4,
   "id": "29520759",
   "metadata": {},
   "outputs": [
    {
     "data": {
      "image/png": "[encoded data removed]",
      "text/plain": [
       "<Figure size 432x288 with 1 Axes>"
      ]
     },
     "metadata": {
      "needs_background": "light"
     },
     "output_type": "display_data"
    }
   ],
   "source": [
    "df_train.loc[:, 'Credit History'].hist(alpha=0.5, label='Train', density=True)\n",
    "df_test.loc[:, 'Credit History'].hist(alpha=0.5, label='Test', density=True)\n",
    "plt.xlabel('Credit History')\n",
    "plt.legend()\n",
    "plt.show()"
   ]
  },
  {
   "cell_type": "code",
   "execution_count": 5,
   "id": "942529a2",
   "metadata": {},
   "outputs": [
    {
     "data": {
      "image/png": "[encoded data removed]",
      "text/plain": [
       "<Figure size 432x288 with 1 Axes>"
      ]
     },
     "metadata": {
      "needs_background": "light"
     },
     "output_type": "display_data"
    }
   ],
   "source": [
    "df_train.loc[:, 'Age'].hist(alpha=0.5, label='Train', density=True)\n",
    "df_test.loc[:, 'Age'].hist(alpha=0.5, label='Test', density=True)\n",
    "plt.xlabel('Age')\n",
    "plt.legend()\n",
    "plt.show()"
   ]
  },
  {
   "cell_type": "code",
   "execution_count": 6,
   "id": "1e04a5e0",
   "metadata": {},
   "outputs": [
    {
     "data": {
      "image/png": "[encoded data removed]",
      "text/plain": [
       "<Figure size 432x288 with 1 Axes>"
      ]
     },
     "metadata": {
      "needs_background": "light"
     },
     "output_type": "display_data"
    }
   ],
   "source": [
    "df_train.loc[:, 'Job'].hist(alpha=0.5, label='Train', density=True)\n",
    "df_test.loc[:, 'Job'].hist(alpha=0.5, label='Test', density=True)\n",
    "plt.xlabel('Job')\n",
    "plt.legend()\n",
    "plt.show()"
   ]
  },
  {
   "cell_type": "code",
   "execution_count": 7,
   "id": "57c55f41",
   "metadata": {},
   "outputs": [
    {
     "data": {
      "image/png": "[encoded data removed]",
      "text/plain": [
       "<Figure size 432x288 with 1 Axes>"
      ]
     },
     "metadata": {
      "needs_background": "light"
     },
     "output_type": "display_data"
    }
   ],
   "source": [
    "df_train.loc[:, 'Duration'].hist(alpha=0.5, label='Train', density=True)\n",
    "df_test.loc[:, 'Duration'].hist(alpha=0.5, label='Test', density=True)\n",
    "plt.xlabel('Duration')\n",
    "plt.legend()\n",
    "plt.show()"
   ]
  },
  {
   "cell_type": "code",
   "execution_count": 8,
   "id": "27adf994",
   "metadata": {},
   "outputs": [
    {
     "data": {
      "image/png": "[encoded data removed]",
      "text/plain": [
       "<Figure size 432x288 with 1 Axes>"
      ]
     },
     "metadata": {
      "needs_background": "light"
     },
     "output_type": "display_data"
    }
   ],
   "source": [
    "df_train.loc[:, 'Credit amount'].hist(alpha=0.5, label='Train', density=True)\n",
    "df_test.loc[:, 'Credit amount'].hist(alpha=0.5, label='Test', density=True)\n",
    "plt.xlabel('Credit amount')\n",
    "plt.legend()\n",
    "plt.show()"
   ]
  },
  {
   "cell_type": "code",
   "execution_count": 9,
   "id": "53fbb81b",
   "metadata": {},
   "outputs": [
    {
     "data": {
      "image/png": "[encoded data removed]",
      "text/plain": [
       "<Figure size 432x288 with 1 Axes>"
      ]
     },
     "metadata": {
      "needs_background": "light"
     },
     "output_type": "display_data"
    }
   ],
   "source": [
    "df_train.loc[:, 'Saving accounts'].hist(alpha=0.5, label='Train', density=True)\n",
    "df_test.loc[:, 'Saving accounts'].hist(alpha=0.5, label='Test', density=True)\n",
    "plt.xlabel('Saving accounts')\n",
    "plt.legend()\n",
    "plt.show()"
   ]
  },
  {
   "cell_type": "markdown",
   "id": "bc1f5e36",
   "metadata": {},
   "source": [
    "K-S Statistic is a numeric measure to check the null hypothesis of whether the 2 distributions are identical. <br />\n",
    "A K-S value smaller than the p-value suggests that we cannot reject the null hypothesis that the two distributions are the same:"
   ]
  },
  {
   "cell_type": "code",
   "execution_count": 10,
   "id": "dc52590c",
   "metadata": {
    "scrolled": true
   },
   "outputs": [
    {
     "name": "stdout",
     "output_type": "stream",
     "text": [
      "K-S Statistic\n",
      "Credit History : KstestResult(statistic=0.023333333333333334, pvalue=0.9999999986540478)\n",
      "Age : KstestResult(statistic=0.10444444444444445, pvalue=0.26508851077956963)\n",
      "Job : KstestResult(statistic=0.08666666666666667, pvalue=0.4874563836201551)\n",
      "Duration : KstestResult(statistic=0.03, pvalue=0.9999932472855252)\n",
      "Credit amount : KstestResult(statistic=0.07222222222222222, pvalue=0.7140534776836482)\n"
     ]
    }
   ],
   "source": [
    "from scipy.stats import ks_2samp\n",
    "\n",
    "print('K-S Statistic')\n",
    "for i in ('Credit History', 'Age', 'Job', 'Duration', 'Credit amount'):\n",
    "    print(i, ':', ks_2samp(df_train[i], df_test[i]))"
   ]
  },
  {
   "cell_type": "markdown",
   "id": "39609485",
   "metadata": {},
   "source": [
    "From the histograms and K-S values, we can say that the training and test dataset are drawn from a similar distribution."
   ]
  },
  {
   "cell_type": "code",
   "execution_count": 11,
   "id": "98857695",
   "metadata": {},
   "outputs": [
    {
     "data": {
      "text/html": [
       "<div>\n",
       "<style scoped>\n",
       "    .dataframe tbody tr th:only-of-type {\n",
       "        vertical-align: middle;\n",
       "    }\n",
       "\n",
       "    .dataframe tbody tr th {\n",
       "        vertical-align: top;\n",
       "    }\n",
       "\n",
       "    .dataframe thead th {\n",
       "        text-align: right;\n",
       "    }\n",
       "</style>\n",
       "<table border=\"1\" class=\"dataframe\">\n",
       "  <thead>\n",
       "    <tr style=\"text-align: right;\">\n",
       "      <th></th>\n",
       "      <th>Credit History</th>\n",
       "      <th>Age</th>\n",
       "      <th>Gender</th>\n",
       "      <th>Job</th>\n",
       "      <th>Housing</th>\n",
       "      <th>Saving accounts</th>\n",
       "      <th>Credit amount</th>\n",
       "      <th>Duration</th>\n",
       "      <th>Purpose</th>\n",
       "      <th>Risk</th>\n",
       "    </tr>\n",
       "  </thead>\n",
       "  <tbody>\n",
       "    <tr>\n",
       "      <th>716</th>\n",
       "      <td>4</td>\n",
       "      <td>40</td>\n",
       "      <td>male</td>\n",
       "      <td>2</td>\n",
       "      <td>own</td>\n",
       "      <td>NaN</td>\n",
       "      <td>3077</td>\n",
       "      <td>30</td>\n",
       "      <td>radio/TV</td>\n",
       "      <td>good</td>\n",
       "    </tr>\n",
       "    <tr>\n",
       "      <th>351</th>\n",
       "      <td>2</td>\n",
       "      <td>29</td>\n",
       "      <td>female</td>\n",
       "      <td>2</td>\n",
       "      <td>own</td>\n",
       "      <td>little</td>\n",
       "      <td>959</td>\n",
       "      <td>9</td>\n",
       "      <td>furniture/equipment</td>\n",
       "      <td>bad</td>\n",
       "    </tr>\n",
       "    <tr>\n",
       "      <th>936</th>\n",
       "      <td>2</td>\n",
       "      <td>28</td>\n",
       "      <td>female</td>\n",
       "      <td>1</td>\n",
       "      <td>own</td>\n",
       "      <td>little</td>\n",
       "      <td>745</td>\n",
       "      <td>9</td>\n",
       "      <td>radio/TV</td>\n",
       "      <td>bad</td>\n",
       "    </tr>\n",
       "    <tr>\n",
       "      <th>256</th>\n",
       "      <td>4</td>\n",
       "      <td>35</td>\n",
       "      <td>male</td>\n",
       "      <td>1</td>\n",
       "      <td>own</td>\n",
       "      <td>little</td>\n",
       "      <td>2684</td>\n",
       "      <td>24</td>\n",
       "      <td>radio/TV</td>\n",
       "      <td>good</td>\n",
       "    </tr>\n",
       "    <tr>\n",
       "      <th>635</th>\n",
       "      <td>2</td>\n",
       "      <td>47</td>\n",
       "      <td>male</td>\n",
       "      <td>2</td>\n",
       "      <td>own</td>\n",
       "      <td>little</td>\n",
       "      <td>1393</td>\n",
       "      <td>12</td>\n",
       "      <td>education</td>\n",
       "      <td>good</td>\n",
       "    </tr>\n",
       "  </tbody>\n",
       "</table>\n",
       "</div>"
      ],
      "text/plain": [
       "     Credit History  Age  Gender  Job Housing Saving accounts  Credit amount  \\\n",
       "716               4   40    male    2     own             NaN           3077   \n",
       "351               2   29  female    2     own          little            959   \n",
       "936               2   28  female    1     own          little            745   \n",
       "256               4   35    male    1     own          little           2684   \n",
       "635               2   47    male    2     own          little           1393   \n",
       "\n",
       "     Duration              Purpose  Risk  \n",
       "716        30             radio/TV  good  \n",
       "351         9  furniture/equipment   bad  \n",
       "936         9             radio/TV   bad  \n",
       "256        24             radio/TV  good  \n",
       "635        12            education  good  "
      ]
     },
     "execution_count": 11,
     "metadata": {},
     "output_type": "execute_result"
    }
   ],
   "source": [
    "df_train.head()"
   ]
  },
  {
   "cell_type": "code",
   "execution_count": 12,
   "id": "a3e382be",
   "metadata": {},
   "outputs": [
    {
     "data": {
      "text/plain": [
       "Credit History       5\n",
       "Age                 53\n",
       "Gender               2\n",
       "Job                  4\n",
       "Housing              3\n",
       "Saving accounts      4\n",
       "Credit amount      833\n",
       "Duration            33\n",
       "Purpose              8\n",
       "Risk                 2\n",
       "dtype: int64"
      ]
     },
     "execution_count": 12,
     "metadata": {},
     "output_type": "execute_result"
    }
   ],
   "source": [
    "df_train.nunique()"
   ]
  },
  {
   "cell_type": "code",
   "execution_count": 13,
   "id": "0e2e8c01",
   "metadata": {},
   "outputs": [
    {
     "data": {
      "text/plain": [
       "good    629\n",
       "bad     271\n",
       "Name: Risk, dtype: int64"
      ]
     },
     "execution_count": 13,
     "metadata": {},
     "output_type": "execute_result"
    }
   ],
   "source": [
    "df_train.Risk.value_counts()"
   ]
  },
  {
   "cell_type": "code",
   "execution_count": 14,
   "id": "34dfe33b",
   "metadata": {},
   "outputs": [
    {
     "data": {
      "text/html": [
       "<div>\n",
       "<style scoped>\n",
       "    .dataframe tbody tr th:only-of-type {\n",
       "        vertical-align: middle;\n",
       "    }\n",
       "\n",
       "    .dataframe tbody tr th {\n",
       "        vertical-align: top;\n",
       "    }\n",
       "\n",
       "    .dataframe thead th {\n",
       "        text-align: right;\n",
       "    }\n",
       "</style>\n",
       "<table border=\"1\" class=\"dataframe\">\n",
       "  <thead>\n",
       "    <tr style=\"text-align: right;\">\n",
       "      <th></th>\n",
       "      <th>Credit History</th>\n",
       "      <th>Age</th>\n",
       "      <th>Job</th>\n",
       "      <th>Credit amount</th>\n",
       "      <th>Duration</th>\n",
       "    </tr>\n",
       "  </thead>\n",
       "  <tbody>\n",
       "    <tr>\n",
       "      <th>count</th>\n",
       "      <td>900.000000</td>\n",
       "      <td>900.000000</td>\n",
       "      <td>900.000000</td>\n",
       "      <td>900.000000</td>\n",
       "      <td>900.000000</td>\n",
       "    </tr>\n",
       "    <tr>\n",
       "      <th>mean</th>\n",
       "      <td>2.545556</td>\n",
       "      <td>35.716667</td>\n",
       "      <td>1.908889</td>\n",
       "      <td>3279.596667</td>\n",
       "      <td>20.836667</td>\n",
       "    </tr>\n",
       "    <tr>\n",
       "      <th>std</th>\n",
       "      <td>1.086438</td>\n",
       "      <td>11.421870</td>\n",
       "      <td>0.664137</td>\n",
       "      <td>2836.781180</td>\n",
       "      <td>11.955283</td>\n",
       "    </tr>\n",
       "    <tr>\n",
       "      <th>min</th>\n",
       "      <td>0.000000</td>\n",
       "      <td>19.000000</td>\n",
       "      <td>0.000000</td>\n",
       "      <td>250.000000</td>\n",
       "      <td>4.000000</td>\n",
       "    </tr>\n",
       "    <tr>\n",
       "      <th>25%</th>\n",
       "      <td>2.000000</td>\n",
       "      <td>27.000000</td>\n",
       "      <td>2.000000</td>\n",
       "      <td>1369.750000</td>\n",
       "      <td>12.000000</td>\n",
       "    </tr>\n",
       "    <tr>\n",
       "      <th>50%</th>\n",
       "      <td>2.000000</td>\n",
       "      <td>33.000000</td>\n",
       "      <td>2.000000</td>\n",
       "      <td>2308.500000</td>\n",
       "      <td>18.000000</td>\n",
       "    </tr>\n",
       "    <tr>\n",
       "      <th>75%</th>\n",
       "      <td>4.000000</td>\n",
       "      <td>42.000000</td>\n",
       "      <td>2.000000</td>\n",
       "      <td>3976.750000</td>\n",
       "      <td>24.000000</td>\n",
       "    </tr>\n",
       "    <tr>\n",
       "      <th>max</th>\n",
       "      <td>4.000000</td>\n",
       "      <td>75.000000</td>\n",
       "      <td>3.000000</td>\n",
       "      <td>18424.000000</td>\n",
       "      <td>72.000000</td>\n",
       "    </tr>\n",
       "  </tbody>\n",
       "</table>\n",
       "</div>"
      ],
      "text/plain": [
       "       Credit History         Age         Job  Credit amount    Duration\n",
       "count      900.000000  900.000000  900.000000     900.000000  900.000000\n",
       "mean         2.545556   35.716667    1.908889    3279.596667   20.836667\n",
       "std          1.086438   11.421870    0.664137    2836.781180   11.955283\n",
       "min          0.000000   19.000000    0.000000     250.000000    4.000000\n",
       "25%          2.000000   27.000000    2.000000    1369.750000   12.000000\n",
       "50%          2.000000   33.000000    2.000000    2308.500000   18.000000\n",
       "75%          4.000000   42.000000    2.000000    3976.750000   24.000000\n",
       "max          4.000000   75.000000    3.000000   18424.000000   72.000000"
      ]
     },
     "execution_count": 14,
     "metadata": {},
     "output_type": "execute_result"
    }
   ],
   "source": [
    "df_train_summ = df_train.describe()\n",
    "df_train_summ"
   ]
  },
  {
   "cell_type": "code",
   "execution_count": 15,
   "id": "749e8e69",
   "metadata": {},
   "outputs": [
    {
     "data": {
      "image/png": "[encoded data removed]",
      "text/plain": [
       "<Figure size 432x288 with 1 Axes>"
      ]
     },
     "metadata": {
      "needs_background": "light"
     },
     "output_type": "display_data"
    }
   ],
   "source": [
    "plt.hist(df_train['Credit amount'])\n",
    "plt.title('Credit Amount Distribution')\n",
    "plt.show()"
   ]
  },
  {
   "cell_type": "markdown",
   "id": "f7032f64",
   "metadata": {},
   "source": [
    "The distribution of the credit amount is highly skewed, let's analyse the extreme values beyond 3 sigmas from the mean:"
   ]
  },
  {
   "cell_type": "code",
   "execution_count": 16,
   "id": "d6522ef7",
   "metadata": {},
   "outputs": [],
   "source": [
    "def extreme_count(sig_factor, feat):\n",
    "    sig_cutoff = df_train_summ[feat]['mean'] + sig_factor * df_train_summ[feat]['std']\n",
    "    sig_count = len(df_train[df_train[feat] > sig_cutoff])\n",
    "    print('There are {} instances of {} feature greater than {} sigma. (Cutoff: {})'.format(sig_count, feat, sig_factor, sig_cutoff))\n",
    "    return"
   ]
  },
  {
   "cell_type": "code",
   "execution_count": 17,
   "id": "c8aea558",
   "metadata": {},
   "outputs": [
    {
     "name": "stdout",
     "output_type": "stream",
     "text": [
      "There are 22 instances of Credit amount feature greater than 3 sigma. (Cutoff: 11789.940206179203)\n"
     ]
    }
   ],
   "source": [
    "extreme_count(3, 'Credit amount')"
   ]
  },
  {
   "cell_type": "code",
   "execution_count": 18,
   "id": "52ec023a",
   "metadata": {},
   "outputs": [
    {
     "data": {
      "image/png": "[encoded data removed]",
      "text/plain": [
       "<Figure size 432x288 with 1 Axes>"
      ]
     },
     "metadata": {
      "needs_background": "light"
     },
     "output_type": "display_data"
    }
   ],
   "source": [
    "plt.hist(df_train['Age'])\n",
    "plt.title('Age Distribution')\n",
    "plt.show()"
   ]
  },
  {
   "cell_type": "code",
   "execution_count": 19,
   "id": "194c2226",
   "metadata": {},
   "outputs": [
    {
     "name": "stdout",
     "output_type": "stream",
     "text": [
      "There are 7 instances of Age feature greater than 3 sigma. (Cutoff: 69.98227757924869)\n"
     ]
    }
   ],
   "source": [
    "extreme_count(3, 'Age')"
   ]
  },
  {
   "cell_type": "code",
   "execution_count": 20,
   "id": "80a2c2f7",
   "metadata": {},
   "outputs": [
    {
     "data": {
      "image/png": "[encoded data removed]",
      "text/plain": [
       "<Figure size 432x288 with 1 Axes>"
      ]
     },
     "metadata": {
      "needs_background": "light"
     },
     "output_type": "display_data"
    }
   ],
   "source": [
    "plt.hist(df_train['Duration'])\n",
    "plt.title('Duration Distribution')\n",
    "plt.show()"
   ]
  },
  {
   "cell_type": "code",
   "execution_count": 21,
   "id": "fc2083b4",
   "metadata": {},
   "outputs": [
    {
     "name": "stdout",
     "output_type": "stream",
     "text": [
      "There are 11 instances of Duration feature greater than 3 sigma. (Cutoff: 56.702516551852156)\n"
     ]
    }
   ],
   "source": [
    "extreme_count(3, 'Duration')"
   ]
  },
  {
   "cell_type": "markdown",
   "id": "fb6894b2",
   "metadata": {},
   "source": [
    "Although these instances have features which are beyond 3 sigma of their mean values, we are not treating them as outliers as some loans will have high credit value or longer loan durations etc."
   ]
  },
  {
   "cell_type": "code",
   "execution_count": 22,
   "id": "ab64da26",
   "metadata": {
    "scrolled": true
   },
   "outputs": [
    {
     "data": {
      "text/plain": [
       "Credit History       0\n",
       "Age                  0\n",
       "Gender               0\n",
       "Job                  0\n",
       "Housing              0\n",
       "Saving accounts    166\n",
       "Credit amount        0\n",
       "Duration             0\n",
       "Purpose              0\n",
       "Risk                 0\n",
       "dtype: int64"
      ]
     },
     "execution_count": 22,
     "metadata": {},
     "output_type": "execute_result"
    }
   ],
   "source": [
    "df_train.isnull().sum()"
   ]
  },
  {
   "cell_type": "markdown",
   "id": "6a28011a",
   "metadata": {},
   "source": [
    "Only the 'Saving accounts' feature has null values. After checking it, the null values imply that there is no saving account for that particular instance, hence we will be imputing the null values:"
   ]
  },
  {
   "cell_type": "code",
   "execution_count": 23,
   "id": "a853ea0b",
   "metadata": {},
   "outputs": [
    {
     "name": "stdout",
     "output_type": "stream",
     "text": [
      "little        539\n",
      "moderate       93\n",
      "quite rich     61\n",
      "rich           41\n",
      "Name: Saving accounts, dtype: int64\n",
      "[nan 'little' 'moderate' 'quite rich' 'rich']\n"
     ]
    }
   ],
   "source": [
    "print(df_train['Saving accounts'].value_counts())\n",
    "print(df_train['Saving accounts'].unique())"
   ]
  },
  {
   "cell_type": "code",
   "execution_count": 24,
   "id": "428350d0",
   "metadata": {},
   "outputs": [],
   "source": [
    "# replace null values with 'no account'\n",
    "df_train.loc[df_train['Saving accounts'].isnull(), 'Saving accounts'] = 'no account'"
   ]
  },
  {
   "cell_type": "code",
   "execution_count": 25,
   "id": "afdd0dee",
   "metadata": {},
   "outputs": [
    {
     "data": {
      "text/plain": [
       "Credit History     0\n",
       "Age                0\n",
       "Gender             0\n",
       "Job                0\n",
       "Housing            0\n",
       "Saving accounts    0\n",
       "Credit amount      0\n",
       "Duration           0\n",
       "Purpose            0\n",
       "Risk               0\n",
       "dtype: int64"
      ]
     },
     "execution_count": 25,
     "metadata": {},
     "output_type": "execute_result"
    }
   ],
   "source": [
    "df_train.isnull().sum()"
   ]
  },
  {
   "cell_type": "code",
   "execution_count": 26,
   "id": "a5483d97",
   "metadata": {},
   "outputs": [
    {
     "data": {
      "text/plain": [
       "Credit History      int64\n",
       "Age                 int64\n",
       "Gender             object\n",
       "Job                 int64\n",
       "Housing            object\n",
       "Saving accounts    object\n",
       "Credit amount       int64\n",
       "Duration            int64\n",
       "Purpose            object\n",
       "Risk               object\n",
       "dtype: object"
      ]
     },
     "execution_count": 26,
     "metadata": {},
     "output_type": "execute_result"
    }
   ],
   "source": [
    "df_train.dtypes"
   ]
  },
  {
   "cell_type": "markdown",
   "id": "71f937cb",
   "metadata": {},
   "source": [
    "Next, we will be label encoding the categorical features:"
   ]
  },
  {
   "cell_type": "code",
   "execution_count": 27,
   "id": "4c1627d8",
   "metadata": {},
   "outputs": [
    {
     "data": {
      "text/plain": [
       "Index(['Gender', 'Housing', 'Saving accounts', 'Purpose', 'Risk'], dtype='object')"
      ]
     },
     "execution_count": 27,
     "metadata": {},
     "output_type": "execute_result"
    }
   ],
   "source": [
    "cat_attribs = df_credit.select_dtypes(include='object').columns\n",
    "cat_attribs"
   ]
  },
  {
   "cell_type": "code",
   "execution_count": 28,
   "id": "f0cb23c6",
   "metadata": {},
   "outputs": [],
   "source": [
    "from sklearn.preprocessing import LabelEncoder\n",
    "\n",
    "encoder = LabelEncoder()\n",
    "for feat in cat_attribs:\n",
    "    df_train[feat] = encoder.fit_transform(df_train[feat])"
   ]
  },
  {
   "cell_type": "code",
   "execution_count": 29,
   "id": "899aadcb",
   "metadata": {},
   "outputs": [
    {
     "data": {
      "text/html": [
       "<div>\n",
       "<style scoped>\n",
       "    .dataframe tbody tr th:only-of-type {\n",
       "        vertical-align: middle;\n",
       "    }\n",
       "\n",
       "    .dataframe tbody tr th {\n",
       "        vertical-align: top;\n",
       "    }\n",
       "\n",
       "    .dataframe thead th {\n",
       "        text-align: right;\n",
       "    }\n",
       "</style>\n",
       "<table border=\"1\" class=\"dataframe\">\n",
       "  <thead>\n",
       "    <tr style=\"text-align: right;\">\n",
       "      <th></th>\n",
       "      <th>Credit History</th>\n",
       "      <th>Age</th>\n",
       "      <th>Gender</th>\n",
       "      <th>Job</th>\n",
       "      <th>Housing</th>\n",
       "      <th>Saving accounts</th>\n",
       "      <th>Credit amount</th>\n",
       "      <th>Duration</th>\n",
       "      <th>Purpose</th>\n",
       "      <th>Risk</th>\n",
       "    </tr>\n",
       "  </thead>\n",
       "  <tbody>\n",
       "    <tr>\n",
       "      <th>716</th>\n",
       "      <td>4</td>\n",
       "      <td>40</td>\n",
       "      <td>1</td>\n",
       "      <td>2</td>\n",
       "      <td>1</td>\n",
       "      <td>2</td>\n",
       "      <td>3077</td>\n",
       "      <td>30</td>\n",
       "      <td>5</td>\n",
       "      <td>1</td>\n",
       "    </tr>\n",
       "    <tr>\n",
       "      <th>351</th>\n",
       "      <td>2</td>\n",
       "      <td>29</td>\n",
       "      <td>0</td>\n",
       "      <td>2</td>\n",
       "      <td>1</td>\n",
       "      <td>0</td>\n",
       "      <td>959</td>\n",
       "      <td>9</td>\n",
       "      <td>4</td>\n",
       "      <td>0</td>\n",
       "    </tr>\n",
       "    <tr>\n",
       "      <th>936</th>\n",
       "      <td>2</td>\n",
       "      <td>28</td>\n",
       "      <td>0</td>\n",
       "      <td>1</td>\n",
       "      <td>1</td>\n",
       "      <td>0</td>\n",
       "      <td>745</td>\n",
       "      <td>9</td>\n",
       "      <td>5</td>\n",
       "      <td>0</td>\n",
       "    </tr>\n",
       "    <tr>\n",
       "      <th>256</th>\n",
       "      <td>4</td>\n",
       "      <td>35</td>\n",
       "      <td>1</td>\n",
       "      <td>1</td>\n",
       "      <td>1</td>\n",
       "      <td>0</td>\n",
       "      <td>2684</td>\n",
       "      <td>24</td>\n",
       "      <td>5</td>\n",
       "      <td>1</td>\n",
       "    </tr>\n",
       "    <tr>\n",
       "      <th>635</th>\n",
       "      <td>2</td>\n",
       "      <td>47</td>\n",
       "      <td>1</td>\n",
       "      <td>2</td>\n",
       "      <td>1</td>\n",
       "      <td>0</td>\n",
       "      <td>1393</td>\n",
       "      <td>12</td>\n",
       "      <td>3</td>\n",
       "      <td>1</td>\n",
       "    </tr>\n",
       "  </tbody>\n",
       "</table>\n",
       "</div>"
      ],
      "text/plain": [
       "     Credit History  Age  Gender  Job  Housing  Saving accounts  \\\n",
       "716               4   40       1    2        1                2   \n",
       "351               2   29       0    2        1                0   \n",
       "936               2   28       0    1        1                0   \n",
       "256               4   35       1    1        1                0   \n",
       "635               2   47       1    2        1                0   \n",
       "\n",
       "     Credit amount  Duration  Purpose  Risk  \n",
       "716           3077        30        5     1  \n",
       "351            959         9        4     0  \n",
       "936            745         9        5     0  \n",
       "256           2684        24        5     1  \n",
       "635           1393        12        3     1  "
      ]
     },
     "execution_count": 29,
     "metadata": {},
     "output_type": "execute_result"
    }
   ],
   "source": [
    "df_train.head()"
   ]
  },
  {
   "cell_type": "code",
   "execution_count": 30,
   "id": "f797b9a9",
   "metadata": {},
   "outputs": [
    {
     "data": {
      "text/plain": [
       "1    629\n",
       "0    271\n",
       "Name: Risk, dtype: int64"
      ]
     },
     "execution_count": 30,
     "metadata": {},
     "output_type": "execute_result"
    }
   ],
   "source": [
    "df_train.Risk.value_counts()"
   ]
  },
  {
   "cell_type": "code",
   "execution_count": 31,
   "id": "207a64ea",
   "metadata": {},
   "outputs": [
    {
     "data": {
      "text/html": [
       "<div>\n",
       "<style scoped>\n",
       "    .dataframe tbody tr th:only-of-type {\n",
       "        vertical-align: middle;\n",
       "    }\n",
       "\n",
       "    .dataframe tbody tr th {\n",
       "        vertical-align: top;\n",
       "    }\n",
       "\n",
       "    .dataframe thead th {\n",
       "        text-align: right;\n",
       "    }\n",
       "</style>\n",
       "<table border=\"1\" class=\"dataframe\">\n",
       "  <thead>\n",
       "    <tr style=\"text-align: right;\">\n",
       "      <th></th>\n",
       "      <th>Credit History</th>\n",
       "      <th>Age</th>\n",
       "      <th>Gender</th>\n",
       "      <th>Job</th>\n",
       "      <th>Housing</th>\n",
       "      <th>Saving accounts</th>\n",
       "      <th>Credit amount</th>\n",
       "      <th>Duration</th>\n",
       "      <th>Purpose</th>\n",
       "      <th>Risk</th>\n",
       "    </tr>\n",
       "  </thead>\n",
       "  <tbody>\n",
       "    <tr>\n",
       "      <th>Credit History</th>\n",
       "      <td>1.000000</td>\n",
       "      <td>0.148363</td>\n",
       "      <td>0.078987</td>\n",
       "      <td>0.004217</td>\n",
       "      <td>-0.068106</td>\n",
       "      <td>0.035619</td>\n",
       "      <td>-0.063109</td>\n",
       "      <td>-0.076802</td>\n",
       "      <td>0.015034</td>\n",
       "      <td>0.236102</td>\n",
       "    </tr>\n",
       "    <tr>\n",
       "      <th>Age</th>\n",
       "      <td>0.148363</td>\n",
       "      <td>1.000000</td>\n",
       "      <td>0.168368</td>\n",
       "      <td>0.019909</td>\n",
       "      <td>-0.298159</td>\n",
       "      <td>0.079027</td>\n",
       "      <td>0.036005</td>\n",
       "      <td>-0.045435</td>\n",
       "      <td>-0.079569</td>\n",
       "      <td>0.102314</td>\n",
       "    </tr>\n",
       "    <tr>\n",
       "      <th>Gender</th>\n",
       "      <td>0.078987</td>\n",
       "      <td>0.168368</td>\n",
       "      <td>1.000000</td>\n",
       "      <td>0.060399</td>\n",
       "      <td>-0.223024</td>\n",
       "      <td>0.002926</td>\n",
       "      <td>0.084763</td>\n",
       "      <td>0.067744</td>\n",
       "      <td>-0.052779</td>\n",
       "      <td>0.085402</td>\n",
       "    </tr>\n",
       "    <tr>\n",
       "      <th>Job</th>\n",
       "      <td>0.004217</td>\n",
       "      <td>0.019909</td>\n",
       "      <td>0.060399</td>\n",
       "      <td>1.000000</td>\n",
       "      <td>-0.092980</td>\n",
       "      <td>-0.028781</td>\n",
       "      <td>0.284859</td>\n",
       "      <td>0.208546</td>\n",
       "      <td>-0.000328</td>\n",
       "      <td>-0.039012</td>\n",
       "    </tr>\n",
       "    <tr>\n",
       "      <th>Housing</th>\n",
       "      <td>-0.068106</td>\n",
       "      <td>-0.298159</td>\n",
       "      <td>-0.223024</td>\n",
       "      <td>-0.092980</td>\n",
       "      <td>1.000000</td>\n",
       "      <td>0.025598</td>\n",
       "      <td>-0.129149</td>\n",
       "      <td>-0.139828</td>\n",
       "      <td>0.009992</td>\n",
       "      <td>-0.025736</td>\n",
       "    </tr>\n",
       "    <tr>\n",
       "      <th>Saving accounts</th>\n",
       "      <td>0.035619</td>\n",
       "      <td>0.079027</td>\n",
       "      <td>0.002926</td>\n",
       "      <td>-0.028781</td>\n",
       "      <td>0.025598</td>\n",
       "      <td>1.000000</td>\n",
       "      <td>-0.004276</td>\n",
       "      <td>0.010221</td>\n",
       "      <td>-0.011529</td>\n",
       "      <td>0.162159</td>\n",
       "    </tr>\n",
       "    <tr>\n",
       "      <th>Credit amount</th>\n",
       "      <td>-0.063109</td>\n",
       "      <td>0.036005</td>\n",
       "      <td>0.084763</td>\n",
       "      <td>0.284859</td>\n",
       "      <td>-0.129149</td>\n",
       "      <td>-0.004276</td>\n",
       "      <td>1.000000</td>\n",
       "      <td>0.620168</td>\n",
       "      <td>-0.132603</td>\n",
       "      <td>-0.151349</td>\n",
       "    </tr>\n",
       "    <tr>\n",
       "      <th>Duration</th>\n",
       "      <td>-0.076802</td>\n",
       "      <td>-0.045435</td>\n",
       "      <td>0.067744</td>\n",
       "      <td>0.208546</td>\n",
       "      <td>-0.139828</td>\n",
       "      <td>0.010221</td>\n",
       "      <td>0.620168</td>\n",
       "      <td>1.000000</td>\n",
       "      <td>-0.065349</td>\n",
       "      <td>-0.201140</td>\n",
       "    </tr>\n",
       "    <tr>\n",
       "      <th>Purpose</th>\n",
       "      <td>0.015034</td>\n",
       "      <td>-0.079569</td>\n",
       "      <td>-0.052779</td>\n",
       "      <td>-0.000328</td>\n",
       "      <td>0.009992</td>\n",
       "      <td>-0.011529</td>\n",
       "      <td>-0.132603</td>\n",
       "      <td>-0.065349</td>\n",
       "      <td>1.000000</td>\n",
       "      <td>0.067481</td>\n",
       "    </tr>\n",
       "    <tr>\n",
       "      <th>Risk</th>\n",
       "      <td>0.236102</td>\n",
       "      <td>0.102314</td>\n",
       "      <td>0.085402</td>\n",
       "      <td>-0.039012</td>\n",
       "      <td>-0.025736</td>\n",
       "      <td>0.162159</td>\n",
       "      <td>-0.151349</td>\n",
       "      <td>-0.201140</td>\n",
       "      <td>0.067481</td>\n",
       "      <td>1.000000</td>\n",
       "    </tr>\n",
       "  </tbody>\n",
       "</table>\n",
       "</div>"
      ],
      "text/plain": [
       "                 Credit History       Age    Gender       Job   Housing  \\\n",
       "Credit History         1.000000  0.148363  0.078987  0.004217 -0.068106   \n",
       "Age                    0.148363  1.000000  0.168368  0.019909 -0.298159   \n",
       "Gender                 0.078987  0.168368  1.000000  0.060399 -0.223024   \n",
       "Job                    0.004217  0.019909  0.060399  1.000000 -0.092980   \n",
       "Housing               -0.068106 -0.298159 -0.223024 -0.092980  1.000000   \n",
       "Saving accounts        0.035619  0.079027  0.002926 -0.028781  0.025598   \n",
       "Credit amount         -0.063109  0.036005  0.084763  0.284859 -0.129149   \n",
       "Duration              -0.076802 -0.045435  0.067744  0.208546 -0.139828   \n",
       "Purpose                0.015034 -0.079569 -0.052779 -0.000328  0.009992   \n",
       "Risk                   0.236102  0.102314  0.085402 -0.039012 -0.025736   \n",
       "\n",
       "                 Saving accounts  Credit amount  Duration   Purpose      Risk  \n",
       "Credit History          0.035619      -0.063109 -0.076802  0.015034  0.236102  \n",
       "Age                     0.079027       0.036005 -0.045435 -0.079569  0.102314  \n",
       "Gender                  0.002926       0.084763  0.067744 -0.052779  0.085402  \n",
       "Job                    -0.028781       0.284859  0.208546 -0.000328 -0.039012  \n",
       "Housing                 0.025598      -0.129149 -0.139828  0.009992 -0.025736  \n",
       "Saving accounts         1.000000      -0.004276  0.010221 -0.011529  0.162159  \n",
       "Credit amount          -0.004276       1.000000  0.620168 -0.132603 -0.151349  \n",
       "Duration                0.010221       0.620168  1.000000 -0.065349 -0.201140  \n",
       "Purpose                -0.011529      -0.132603 -0.065349  1.000000  0.067481  \n",
       "Risk                    0.162159      -0.151349 -0.201140  0.067481  1.000000  "
      ]
     },
     "execution_count": 31,
     "metadata": {},
     "output_type": "execute_result"
    }
   ],
   "source": [
    "df_train.corr()"
   ]
  },
  {
   "cell_type": "markdown",
   "id": "9cd997a8",
   "metadata": {},
   "source": [
    "Note that 'Credit amount' has high correlation with 'Duration'. Hence we can consider on dropping one of the features."
   ]
  },
  {
   "cell_type": "markdown",
   "id": "82cd38ac",
   "metadata": {},
   "source": [
    "### Subquestion 1: Credit History vs Risk"
   ]
  },
  {
   "cell_type": "code",
   "execution_count": 32,
   "id": "1c829bf5",
   "metadata": {
    "scrolled": false
   },
   "outputs": [
    {
     "data": {
      "image/png": "[encoded data removed]",
      "text/plain": [
       "<Figure size 432x288 with 1 Axes>"
      ]
     },
     "metadata": {
      "needs_background": "light"
     },
     "output_type": "display_data"
    }
   ],
   "source": [
    "plt.hist([df_train.loc[df_train['Risk'] == 0, 'Credit History'].values, \n",
    "          df_train.loc[df_train['Risk'] == 1, 'Credit History'].values], alpha=0.5, label=['Bad Risk', 'Good Risk'])\n",
    "plt.legend(loc='upper right')\n",
    "plt.show()"
   ]
  },
  {
   "cell_type": "markdown",
   "id": "14cc0e13",
   "metadata": {},
   "source": [
    "In general, as credit history increases, it will increase the likelyhood of good risk."
   ]
  },
  {
   "cell_type": "markdown",
   "id": "3c4fd8a2",
   "metadata": {},
   "source": [
    "### Subquestion 2: Age vs Risk"
   ]
  },
  {
   "cell_type": "code",
   "execution_count": 33,
   "id": "4a069536",
   "metadata": {
    "scrolled": true
   },
   "outputs": [
    {
     "data": {
      "image/png": "[encoded data removed]",
      "text/plain": [
       "<Figure size 432x288 with 1 Axes>"
      ]
     },
     "metadata": {
      "needs_background": "light"
     },
     "output_type": "display_data"
    }
   ],
   "source": [
    "plt.hist([df_train.loc[df_train['Risk'] == 0, 'Age'].values, \n",
    "          df_train.loc[df_train['Risk'] == 1, 'Age'].values], alpha=0.5, label=['Bad Risk', 'Good Risk'])\n",
    "plt.legend(loc='upper right')\n",
    "plt.show()"
   ]
  },
  {
   "cell_type": "markdown",
   "id": "af63a75c",
   "metadata": {},
   "source": [
    "We will divide the age into 3 bins:"
   ]
  },
  {
   "cell_type": "code",
   "execution_count": 34,
   "id": "fac3a092",
   "metadata": {},
   "outputs": [],
   "source": [
    "df_train.Age[df_train.Age <= 30] = 0\n",
    "df_train.Age[(df_train.Age > 30) & (df_train.Age < 45)] = 1\n",
    "df_train.Age[df_train.Age >= 45] = 2"
   ]
  },
  {
   "cell_type": "code",
   "execution_count": 35,
   "id": "4a717415",
   "metadata": {},
   "outputs": [
    {
     "data": {
      "text/plain": [
       "0    0.631868\n",
       "1    0.734286\n",
       "2    0.763441\n",
       "Name: Age, dtype: float64"
      ]
     },
     "execution_count": 35,
     "metadata": {},
     "output_type": "execute_result"
    }
   ],
   "source": [
    "df_train[df_train['Risk'] == 1]['Age'].value_counts() / df_train['Age'].value_counts()"
   ]
  },
  {
   "cell_type": "markdown",
   "id": "48864a3d",
   "metadata": {},
   "source": [
    "The figures above indicate that young people have a smaller proportion of having good credit."
   ]
  },
  {
   "cell_type": "markdown",
   "id": "6d0240b2",
   "metadata": {},
   "source": [
    "### Subquestion 3: Saving Accounts vs Risk"
   ]
  },
  {
   "cell_type": "code",
   "execution_count": 36,
   "id": "1dbba0e9",
   "metadata": {},
   "outputs": [
    {
     "data": {
      "image/png": "[encoded data removed]",
      "text/plain": [
       "<Figure size 432x288 with 1 Axes>"
      ]
     },
     "metadata": {
      "needs_background": "light"
     },
     "output_type": "display_data"
    }
   ],
   "source": [
    "plt.hist([df_train.loc[df_train['Risk'] == 0, 'Saving accounts'].values, \n",
    "          df_train.loc[df_train['Risk'] == 1, 'Saving accounts'].values], alpha=0.5, label=['Bad Risk', 'Good Risk'])\n",
    "plt.legend(loc='upper right')\n",
    "plt.show()"
   ]
  },
  {
   "cell_type": "markdown",
   "id": "997b64f0",
   "metadata": {},
   "source": [
    "It is unclear that having more saving accounts leads to good or bad risk in general."
   ]
  },
  {
   "cell_type": "markdown",
   "id": "c6c4dcf5",
   "metadata": {},
   "source": [
    "# Data Preparation and Modeling"
   ]
  },
  {
   "cell_type": "code",
   "execution_count": 37,
   "id": "5b5abe52",
   "metadata": {},
   "outputs": [],
   "source": [
    "y_train = df_train['Risk']\n",
    "X_train = df_train.drop(columns=['Risk'])"
   ]
  },
  {
   "cell_type": "code",
   "execution_count": 38,
   "id": "0a2fabc4",
   "metadata": {},
   "outputs": [
    {
     "data": {
      "text/plain": [
       "Credit History      0\n",
       "Age                 0\n",
       "Gender              0\n",
       "Job                 0\n",
       "Housing             0\n",
       "Saving accounts    17\n",
       "Credit amount       0\n",
       "Duration            0\n",
       "Purpose             0\n",
       "Risk                0\n",
       "dtype: int64"
      ]
     },
     "execution_count": 38,
     "metadata": {},
     "output_type": "execute_result"
    }
   ],
   "source": [
    "df_test.isnull().sum()"
   ]
  },
  {
   "cell_type": "code",
   "execution_count": 39,
   "id": "9429c75f",
   "metadata": {},
   "outputs": [],
   "source": [
    "df_test.loc[df_test['Saving accounts'].isnull(), 'Saving accounts'] = 'no account'"
   ]
  },
  {
   "cell_type": "code",
   "execution_count": 40,
   "id": "55fc1213",
   "metadata": {},
   "outputs": [
    {
     "data": {
      "text/plain": [
       "Credit History     0\n",
       "Age                0\n",
       "Gender             0\n",
       "Job                0\n",
       "Housing            0\n",
       "Saving accounts    0\n",
       "Credit amount      0\n",
       "Duration           0\n",
       "Purpose            0\n",
       "Risk               0\n",
       "dtype: int64"
      ]
     },
     "execution_count": 40,
     "metadata": {},
     "output_type": "execute_result"
    }
   ],
   "source": [
    "df_test.isnull().sum()"
   ]
  },
  {
   "cell_type": "code",
   "execution_count": 41,
   "id": "ef68bd7d",
   "metadata": {},
   "outputs": [],
   "source": [
    "for feat in cat_attribs:\n",
    "    df_test[feat] = encoder.fit_transform(df_test[feat])"
   ]
  },
  {
   "cell_type": "code",
   "execution_count": 42,
   "id": "1437a3fd",
   "metadata": {},
   "outputs": [
    {
     "data": {
      "text/html": [
       "<div>\n",
       "<style scoped>\n",
       "    .dataframe tbody tr th:only-of-type {\n",
       "        vertical-align: middle;\n",
       "    }\n",
       "\n",
       "    .dataframe tbody tr th {\n",
       "        vertical-align: top;\n",
       "    }\n",
       "\n",
       "    .dataframe thead th {\n",
       "        text-align: right;\n",
       "    }\n",
       "</style>\n",
       "<table border=\"1\" class=\"dataframe\">\n",
       "  <thead>\n",
       "    <tr style=\"text-align: right;\">\n",
       "      <th></th>\n",
       "      <th>Credit History</th>\n",
       "      <th>Age</th>\n",
       "      <th>Gender</th>\n",
       "      <th>Job</th>\n",
       "      <th>Housing</th>\n",
       "      <th>Saving accounts</th>\n",
       "      <th>Credit amount</th>\n",
       "      <th>Duration</th>\n",
       "      <th>Purpose</th>\n",
       "      <th>Risk</th>\n",
       "    </tr>\n",
       "  </thead>\n",
       "  <tbody>\n",
       "    <tr>\n",
       "      <th>521</th>\n",
       "      <td>2</td>\n",
       "      <td>24</td>\n",
       "      <td>0</td>\n",
       "      <td>2</td>\n",
       "      <td>1</td>\n",
       "      <td>0</td>\n",
       "      <td>3190</td>\n",
       "      <td>18</td>\n",
       "      <td>4</td>\n",
       "      <td>0</td>\n",
       "    </tr>\n",
       "    <tr>\n",
       "      <th>737</th>\n",
       "      <td>2</td>\n",
       "      <td>35</td>\n",
       "      <td>1</td>\n",
       "      <td>1</td>\n",
       "      <td>1</td>\n",
       "      <td>1</td>\n",
       "      <td>4380</td>\n",
       "      <td>18</td>\n",
       "      <td>1</td>\n",
       "      <td>1</td>\n",
       "    </tr>\n",
       "    <tr>\n",
       "      <th>740</th>\n",
       "      <td>1</td>\n",
       "      <td>32</td>\n",
       "      <td>1</td>\n",
       "      <td>2</td>\n",
       "      <td>1</td>\n",
       "      <td>1</td>\n",
       "      <td>2325</td>\n",
       "      <td>24</td>\n",
       "      <td>1</td>\n",
       "      <td>1</td>\n",
       "    </tr>\n",
       "    <tr>\n",
       "      <th>660</th>\n",
       "      <td>2</td>\n",
       "      <td>23</td>\n",
       "      <td>1</td>\n",
       "      <td>2</td>\n",
       "      <td>2</td>\n",
       "      <td>0</td>\n",
       "      <td>1297</td>\n",
       "      <td>12</td>\n",
       "      <td>4</td>\n",
       "      <td>1</td>\n",
       "    </tr>\n",
       "    <tr>\n",
       "      <th>411</th>\n",
       "      <td>4</td>\n",
       "      <td>35</td>\n",
       "      <td>1</td>\n",
       "      <td>3</td>\n",
       "      <td>1</td>\n",
       "      <td>0</td>\n",
       "      <td>7253</td>\n",
       "      <td>33</td>\n",
       "      <td>1</td>\n",
       "      <td>1</td>\n",
       "    </tr>\n",
       "  </tbody>\n",
       "</table>\n",
       "</div>"
      ],
      "text/plain": [
       "     Credit History  Age  Gender  Job  Housing  Saving accounts  \\\n",
       "521               2   24       0    2        1                0   \n",
       "737               2   35       1    1        1                1   \n",
       "740               1   32       1    2        1                1   \n",
       "660               2   23       1    2        2                0   \n",
       "411               4   35       1    3        1                0   \n",
       "\n",
       "     Credit amount  Duration  Purpose  Risk  \n",
       "521           3190        18        4     0  \n",
       "737           4380        18        1     1  \n",
       "740           2325        24        1     1  \n",
       "660           1297        12        4     1  \n",
       "411           7253        33        1     1  "
      ]
     },
     "execution_count": 42,
     "metadata": {},
     "output_type": "execute_result"
    }
   ],
   "source": [
    "df_test.head()"
   ]
  },
  {
   "cell_type": "code",
   "execution_count": 43,
   "id": "3dee3ab1",
   "metadata": {},
   "outputs": [],
   "source": [
    "y_test = df_test['Risk']\n",
    "X_test = df_test.drop(columns=['Risk'])"
   ]
  },
  {
   "cell_type": "code",
   "execution_count": 44,
   "id": "bf109d64",
   "metadata": {},
   "outputs": [
    {
     "data": {
      "text/plain": [
       "((900,), (100,), (900, 9), (100, 9))"
      ]
     },
     "execution_count": 44,
     "metadata": {},
     "output_type": "execute_result"
    }
   ],
   "source": [
    "y_train.shape, y_test.shape, X_train.shape, X_test.shape"
   ]
  },
  {
   "cell_type": "markdown",
   "id": "0e2718a5",
   "metadata": {},
   "source": [
    "We will be using cross validation and the F-beta score for the evaluation metrics. In this project, we are more inclined towards putting more weight on precision (reducing false positive instances). Hence we set beta < 1:"
   ]
  },
  {
   "cell_type": "code",
   "execution_count": 45,
   "id": "7d204d08",
   "metadata": {},
   "outputs": [],
   "source": [
    "from sklearn.metrics import fbeta_score, make_scorer\n",
    "\n",
    "ftwo_scorer = make_scorer(fbeta_score, beta=1/5)"
   ]
  },
  {
   "cell_type": "code",
   "execution_count": 46,
   "id": "73830aff",
   "metadata": {},
   "outputs": [],
   "source": [
    "fbeta_mu_score, fbeta_sigma_score = [], []"
   ]
  },
  {
   "cell_type": "code",
   "execution_count": 47,
   "id": "ec31e160",
   "metadata": {},
   "outputs": [],
   "source": [
    "from sklearn.linear_model import LogisticRegression\n",
    "from sklearn.tree import DecisionTreeClassifier\n",
    "from sklearn.ensemble import RandomForestClassifier\n",
    "from sklearn.model_selection import cross_val_score\n",
    "\n",
    "model_list = [DecisionTreeClassifier(), RandomForestClassifier(), LogisticRegression()]\n",
    "for model in model_list:\n",
    "    score = cross_val_score(model, X_train, y_train, cv=5, scoring=ftwo_scorer)\n",
    "    fbeta_mu_score.append(np.mean(score))\n",
    "    fbeta_sigma_score.append(np.std(score))"
   ]
  },
  {
   "cell_type": "code",
   "execution_count": 48,
   "id": "a6ce764c",
   "metadata": {},
   "outputs": [
    {
     "data": {
      "text/plain": [
       "([0.75703855582724, 0.7722871005713541, 0.75322966265873],\n",
       " [0.02213894473353152, 0.012044502635506474, 0.013119472634670858])"
      ]
     },
     "execution_count": 48,
     "metadata": {},
     "output_type": "execute_result"
    }
   ],
   "source": [
    "fbeta_mu_score, fbeta_sigma_score"
   ]
  },
  {
   "cell_type": "markdown",
   "id": "98cdefe2",
   "metadata": {},
   "source": [
    "The best model among the three is the RandomForestClassifier() model."
   ]
  },
  {
   "cell_type": "code",
   "execution_count": 49,
   "id": "f23b27ba",
   "metadata": {},
   "outputs": [
    {
     "data": {
      "text/plain": [
       "RandomForestClassifier()"
      ]
     },
     "execution_count": 49,
     "metadata": {},
     "output_type": "execute_result"
    }
   ],
   "source": [
    "model_index = fbeta_mu_score.index(max(fbeta_mu_score))\n",
    "selected_model = model_list[model_index]\n",
    "selected_model"
   ]
  },
  {
   "cell_type": "code",
   "execution_count": 50,
   "id": "1e95a961",
   "metadata": {},
   "outputs": [
    {
     "data": {
      "text/plain": [
       "0.7609185051778479"
      ]
     },
     "execution_count": 50,
     "metadata": {},
     "output_type": "execute_result"
    }
   ],
   "source": [
    "selected_model = RandomForestClassifier()\n",
    "selected_model.fit(X_train, y_train)\n",
    "y_pred = selected_model.predict(X_test)\n",
    "fbeta_score(y_test, y_pred, beta=1/5)"
   ]
  },
  {
   "cell_type": "markdown",
   "id": "a300e954",
   "metadata": {},
   "source": [
    "Finally, we can find out which features contribute the most on determining the credit risk:"
   ]
  },
  {
   "cell_type": "code",
   "execution_count": 51,
   "id": "cf8336f4",
   "metadata": {},
   "outputs": [
    {
     "data": {
      "text/html": [
       "<div>\n",
       "<style scoped>\n",
       "    .dataframe tbody tr th:only-of-type {\n",
       "        vertical-align: middle;\n",
       "    }\n",
       "\n",
       "    .dataframe tbody tr th {\n",
       "        vertical-align: top;\n",
       "    }\n",
       "\n",
       "    .dataframe thead th {\n",
       "        text-align: right;\n",
       "    }\n",
       "</style>\n",
       "<table border=\"1\" class=\"dataframe\">\n",
       "  <thead>\n",
       "    <tr style=\"text-align: right;\">\n",
       "      <th></th>\n",
       "      <th>cols</th>\n",
       "      <th>importance</th>\n",
       "    </tr>\n",
       "  </thead>\n",
       "  <tbody>\n",
       "    <tr>\n",
       "      <th>0</th>\n",
       "      <td>Credit History</td>\n",
       "      <td>0.110526</td>\n",
       "    </tr>\n",
       "    <tr>\n",
       "      <th>1</th>\n",
       "      <td>Age</td>\n",
       "      <td>0.064704</td>\n",
       "    </tr>\n",
       "    <tr>\n",
       "      <th>2</th>\n",
       "      <td>Gender</td>\n",
       "      <td>0.035489</td>\n",
       "    </tr>\n",
       "    <tr>\n",
       "      <th>3</th>\n",
       "      <td>Job</td>\n",
       "      <td>0.064644</td>\n",
       "    </tr>\n",
       "    <tr>\n",
       "      <th>4</th>\n",
       "      <td>Housing</td>\n",
       "      <td>0.052101</td>\n",
       "    </tr>\n",
       "    <tr>\n",
       "      <th>5</th>\n",
       "      <td>Saving accounts</td>\n",
       "      <td>0.078604</td>\n",
       "    </tr>\n",
       "    <tr>\n",
       "      <th>6</th>\n",
       "      <td>Credit amount</td>\n",
       "      <td>0.314790</td>\n",
       "    </tr>\n",
       "    <tr>\n",
       "      <th>7</th>\n",
       "      <td>Duration</td>\n",
       "      <td>0.174862</td>\n",
       "    </tr>\n",
       "    <tr>\n",
       "      <th>8</th>\n",
       "      <td>Purpose</td>\n",
       "      <td>0.104279</td>\n",
       "    </tr>\n",
       "  </tbody>\n",
       "</table>\n",
       "</div>"
      ],
      "text/plain": [
       "              cols  importance\n",
       "0   Credit History    0.110526\n",
       "1              Age    0.064704\n",
       "2           Gender    0.035489\n",
       "3              Job    0.064644\n",
       "4          Housing    0.052101\n",
       "5  Saving accounts    0.078604\n",
       "6    Credit amount    0.314790\n",
       "7         Duration    0.174862\n",
       "8          Purpose    0.104279"
      ]
     },
     "execution_count": 51,
     "metadata": {},
     "output_type": "execute_result"
    }
   ],
   "source": [
    "df_feat = pd.DataFrame()\n",
    "df_feat['cols'] = X_train.columns\n",
    "df_feat['importance'] = selected_model.feature_importances_\n",
    "df_feat"
   ]
  },
  {
   "cell_type": "code",
   "execution_count": 52,
   "id": "fa594c23",
   "metadata": {},
   "outputs": [
    {
     "name": "stdout",
     "output_type": "stream",
     "text": [
      "Top 3 features: ['Credit amount', 'Duration', 'Credit History']\n",
      "Cumulative importance: 60.0\n"
     ]
    }
   ],
   "source": [
    "top_3 = list(df_feat.sort_values(by='importance', ascending=False).head(3)['cols'].values)\n",
    "print('Top 3 features:', top_3)\n",
    "print('Cumulative importance:', np.round(100 * df_feat.sort_values(by='importance', ascending=False).head(3)['importance'].sum()))"
   ]
  },
  {
   "cell_type": "code",
   "execution_count": null,
   "id": "e40cd162",
   "metadata": {},
   "outputs": [],
   "source": []
  }
 ],
 "metadata": {
  "kernelspec": {
   "display_name": "Python 3",
   "language": "python",
   "name": "python3"
  },
  "language_info": {
   "codemirror_mode": {
    "name": "ipython",
    "version": 3
   },
   "file_extension": ".py",
   "mimetype": "text/x-python",
   "name": "python",
   "nbconvert_exporter": "python",
   "pygments_lexer": "ipython3",
   "version": "3.8.5"
  }
 },
 "nbformat": 4,
 "nbformat_minor": 5
}
